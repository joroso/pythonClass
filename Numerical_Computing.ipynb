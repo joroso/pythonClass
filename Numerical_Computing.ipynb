{
 "cells": [
  {
   "cell_type": "markdown",
   "id": "8afd239a",
   "metadata": {},
   "source": [
    "# Numerical analysis is used to solve science and engineering problems\n",
    "Data science - Includes statistics and computer science, especially programing and problem solving skills. \n",
    "Big Data - Is data which is too large and complex, it is hard for data-processing application software to deal with.\n",
    "The problems include collecting data, data storage(NoSQL Databases(DynamoDB, Accumulo,HBASE,MONGDB),CMS-Documentum,FileNet,SQL Databases-Oracle,MySQL,MS SQL,SQL Lite), search the data, visualization of the data, querying and so on."
   ]
  },
  {
   "cell_type": "markdown",
   "id": "9d5b378a",
   "metadata": {},
   "source": [
    "## Packages the are relevant for Numerical Computing\n",
    "* Pandas\n",
    "* Matplotlib\n",
    "    * Scipy\n",
    "   * Numpy\n",
    "   \n",
    "### Numpy\n",
    "* Is a module which provides the basic data structures, implementing multi-dimensional arrays and matrices. The numpy package supplies necessary functions to create and manipulate these data structures.\n",
    "\n",
    "### SciPy - Scientific  Python\n",
    "* Is based on top of Numpy. i.e. It uses the data structures provided by NumPy. It also extends the NumPy with further useful functions for minimization, regresion, Fourier-transformation and many others.\n",
    "\n",
    "### Matplotlib - Mathematical Plotting Library\n",
    "* Is a visual plotting library for Python and the numerically oriented modules like"
   ]
  },
  {
   "cell_type": "code",
   "execution_count": 44,
   "id": "a38086b2",
   "metadata": {},
   "outputs": [],
   "source": [
    "import numpy as N\n",
    "import pylab as P\n",
    "\n",
    "def _blob(x,y,area,colour):\n",
    "    \"\"\"\n",
    "    Draws a square-shaped blob with the given area (< 1) at\n",
    "    the given coordinates.\n",
    "    \"\"\"\n",
    "    hs = N.sqrt(area) / 2\n",
    "    xcorners = N.array([x - hs, x + hs, x + hs, x - hs])\n",
    "    ycorners = N.array([y - hs, y - hs, y + hs, y + hs])\n",
    "    P.fill(xcorners, ycorners, colour, edgecolor=colour)\n",
    "\n",
    "def hinton(W, maxWeight=None):\n",
    "    \"\"\"\n",
    "    Draws a Hinton diagram for visualizing a weight matrix. \n",
    "    Temporarily disables matplotlib interactive mode if it is on, \n",
    "    otherwise this takes forever.\n",
    "    \"\"\"\n",
    "    reenable = False\n",
    "    if P.isinteractive():\n",
    "        P.ioff()\n",
    "    P.clf()\n",
    "    height, width = W.shape\n",
    "    if not maxWeight:\n",
    "        maxWeight = 2**N.ceil(N.log(N.max(N.abs(W)))/N.log(2))\n",
    "\n",
    "    P.fill(N.array([0,width,width,0]),N.array([0,0,height,height]),'gray')\n",
    "    P.axis('off')\n",
    "    P.axis('equal')\n",
    "    for x in xrange(width):\n",
    "        for y in xrange(height):\n",
    "            _x = x+1\n",
    "            _y = y+1\n",
    "            w = W[y,x]\n",
    "            if w > 0:\n",
    "                _blob(_x - 0.5, height - _y + 0.5, min(1,w/maxWeight),'white')\n",
    "            elif w < 0:\n",
    "                _blob(_x - 0.5, height - _y + 0.5, min(1,-w/maxWeight),'black')\n",
    "    if reenable:\n",
    "        P.ion()\n",
    "    plt.show()"
   ]
  },
  {
   "cell_type": "code",
   "execution_count": 2,
   "id": "300fadba",
   "metadata": {},
   "outputs": [
    {
     "data": {
      "text/plain": [
       "array([20.1, 20.8, 21.9, 22.5, 22.7, 22.3, 21.2, 20.9, 20.1])"
      ]
     },
     "execution_count": 2,
     "metadata": {},
     "output_type": "execute_result"
    }
   ],
   "source": [
    "import numpy as np\n",
    "import pandas as pd\n",
    "\n",
    "cValues = [20.1, 20.8, 21.9, 22.5, 22.7, 22.3, 21.2, 20.9, 20.1] # Celsius values of Temperature\n",
    "# We will turn our list of values in cValues to a one-dimensional array\n",
    "C = np.array(cValues)\n",
    "C"
   ]
  },
  {
   "cell_type": "code",
   "execution_count": 3,
   "id": "1aae7d5e",
   "metadata": {},
   "outputs": [
    {
     "data": {
      "text/plain": [
       "list"
      ]
     },
     "execution_count": 3,
     "metadata": {},
     "output_type": "execute_result"
    }
   ],
   "source": [
    "type(cValues)"
   ]
  },
  {
   "cell_type": "code",
   "execution_count": 6,
   "id": "e0faab98",
   "metadata": {},
   "outputs": [
    {
     "name": "stdout",
     "output_type": "stream",
     "text": [
      "[68.18 69.44 71.42 72.5  72.86 72.14 70.16 69.62 68.18]\n"
     ]
    }
   ],
   "source": [
    "# We want to turn the values into Fahrenheit - This is very easy to accomplish with numpy array\n",
    "print(C* 9/5 + 32)"
   ]
  },
  {
   "cell_type": "markdown",
   "id": "6aced2a2",
   "metadata": {},
   "source": [
    "### Using the non traditional way to solve the above problem"
   ]
  },
  {
   "cell_type": "code",
   "execution_count": 7,
   "id": "a34903b9",
   "metadata": {},
   "outputs": [
    {
     "data": {
      "text/plain": [
       "[68.18, 69.44, 71.42, 72.5, 72.86, 72.14, 70.16, 69.62, 68.18]"
      ]
     },
     "execution_count": 7,
     "metadata": {},
     "output_type": "execute_result"
    }
   ],
   "source": [
    "fValues = [x * 9 / 5 + 32 for x in cValues]\n",
    "fValues"
   ]
  },
  {
   "cell_type": "markdown",
   "id": "ac3521f1",
   "metadata": {},
   "source": [
    "### Graphical representation of the values"
   ]
  },
  {
   "cell_type": "code",
   "execution_count": 35,
   "id": "a26d0968",
   "metadata": {},
   "outputs": [],
   "source": [
    "import matplotlib.pyplot as plt\n",
    "# Use the following line of code in Jupiter notebook to prevent an external window to pop up for plots\n",
    "%matplotlib inline"
   ]
  },
  {
   "cell_type": "code",
   "execution_count": 36,
   "id": "5e577408",
   "metadata": {},
   "outputs": [
    {
     "data": {
      "image/png": "[encoded data removed]",
      "text/plain": [
       "<Figure size 432x288 with 1 Axes>"
      ]
     },
     "metadata": {
      "needs_background": "light"
     },
     "output_type": "display_data"
    }
   ],
   "source": [
    "plt.plot(C)\n",
    "plt.show()"
   ]
  },
  {
   "cell_type": "markdown",
   "id": "e9e813f1",
   "metadata": {},
   "source": [
    "### Memory Consumption:\n",
    "* Numpy arrays use smaller memory consumption and better runtime behavior. Let's take a look at the following example"
   ]
  },
  {
   "cell_type": "code",
   "execution_count": 30,
   "id": "c49c87ef",
   "metadata": {},
   "outputs": [],
   "source": [
    "from sys import getsizeof as size"
   ]
  },
  {
   "cell_type": "code",
   "execution_count": 31,
   "id": "e3207df7",
   "metadata": {},
   "outputs": [],
   "source": [
    "lst = [24, 12, 57]\n",
    "size_of_list_object = size(lst)\n"
   ]
  },
  {
   "cell_type": "code",
   "execution_count": 42,
   "id": "fbf89442",
   "metadata": {},
   "outputs": [
    {
     "ename": "IndentationError",
     "evalue": "expected an indented block (2680346059.py, line 11)",
     "output_type": "error",
     "traceback": [
      "\u001b[1;36m  Input \u001b[1;32mIn [42]\u001b[1;36m\u001b[0m\n\u001b[1;33m    def numpy_version():\u001b[0m\n\u001b[1;37m                        ^\u001b[0m\n\u001b[1;31mIndentationError\u001b[0m\u001b[1;31m:\u001b[0m expected an indented block\n"
     ]
    }
   ],
   "source": [
    "import time\n",
    "size_of_vec = 1000\n",
    "\n",
    "def pure_python_version():\n",
    "    t1 = time.time()\n",
    "    X = range(size_of_vec)\n",
    "    Y = range(size_of_vec)\n",
    "    Z = [X[i] + Y[i] for i in range(len(X))]\n",
    "    return time.time() - t1\n",
    "\n",
    "def numpy_version():"
   ]
  },
  {
   "cell_type": "code",
   "execution_count": null,
   "id": "1d80ea03",
   "metadata": {},
   "outputs": [],
   "source": [
    "# Let's call these two functions\n",
    "\n",
    "t1 = pure_python_version()\n",
    "t2 = numpy_version()"
   ]
  },
  {
   "cell_type": "code",
   "execution_count": null,
   "id": "d7be1844",
   "metadata": {},
   "outputs": [],
   "source": []
  },
  {
   "cell_type": "markdown",
   "id": "331e2e28",
   "metadata": {},
   "source": [
    "### Create a Numpy Array"
   ]
  },
  {
   "cell_type": "code",
   "execution_count": 38,
   "id": "829f0c4a",
   "metadata": {},
   "outputs": [
    {
     "data": {
      "text/plain": [
       "array([1, 2, 3, 4, 5, 6, 7, 8, 9])"
      ]
     },
     "execution_count": 38,
     "metadata": {},
     "output_type": "execute_result"
    }
   ],
   "source": [
    "import numpy as np\n",
    "a = np.arange(1, 10)\n",
    "a"
   ]
  },
  {
   "cell_type": "code",
   "execution_count": 39,
   "id": "d5c47f43",
   "metadata": {},
   "outputs": [
    {
     "data": {
      "text/plain": [
       "[1, 2, 3, 4, 5, 6, 7, 8, 9]"
      ]
     },
     "execution_count": 39,
     "metadata": {},
     "output_type": "execute_result"
    }
   ],
   "source": [
    "x = range(1, 10)\n",
    "x\n",
    "list(x)"
   ]
  },
  {
   "cell_type": "code",
   "execution_count": 40,
   "id": "5b9b53f4",
   "metadata": {},
   "outputs": [
    {
     "data": {
      "text/plain": [
       "array([ 0.,  1.,  2.,  3.,  4.,  5.,  6.,  7.,  8.,  9., 10.])"
      ]
     },
     "execution_count": 40,
     "metadata": {},
     "output_type": "execute_result"
    }
   ],
   "source": [
    "x = np.arange(10.4)\n",
    "x"
   ]
  },
  {
   "cell_type": "code",
   "execution_count": 41,
   "id": "1f2f0675",
   "metadata": {},
   "outputs": [
    {
     "data": {
      "text/plain": [
       "array([ 0.5,  1.3,  2.1,  2.9,  3.7,  4.5,  5.3,  6.1,  6.9,  7.7,  8.5,\n",
       "        9.3, 10.1])"
      ]
     },
     "execution_count": 41,
     "metadata": {},
     "output_type": "execute_result"
    }
   ],
   "source": [
    "x = np.arange(0.5, 10.4, 0.8) # start = 0.5, end = 10.4, skip = 0.8\n",
    "x"
   ]
  },
  {
   "cell_type": "markdown",
   "id": "6068b066",
   "metadata": {},
   "source": [
    "### Zero-dimensional arrays in numpy"
   ]
  },
  {
   "cell_type": "code",
   "execution_count": 46,
   "id": "f5df5df7",
   "metadata": {},
   "outputs": [
    {
     "name": "stdout",
     "output_type": "stream",
     "text": [
      "x:  42\n",
      "The type of x:  <class 'numpy.ndarray'>\n",
      "The dimension of x: 0\n"
     ]
    }
   ],
   "source": [
    "import numpy as np\n",
    "x = np.array(42)\n",
    "print(\"x: \", x)\n",
    "print(\"The type of x: \", type(x))\n",
    "print(\"The dimension of x:\", np.ndim(x))"
   ]
  },
  {
   "cell_type": "markdown",
   "id": "47155e45",
   "metadata": {},
   "source": [
    "### One dimensional arrays"
   ]
  },
  {
   "cell_type": "code",
   "execution_count": 47,
   "id": "c1227f4a",
   "metadata": {},
   "outputs": [
    {
     "name": "stdout",
     "output_type": "stream",
     "text": [
      "Dimension of F: 1\n",
      "Dimension of V: 1\n"
     ]
    }
   ],
   "source": [
    "F = np.array([1, 1, 2, 3, 5, 8, 13, 21])\n",
    "V = np.array([3.4, 6.9, 99.8, 12.8])\n",
    "print(\"Dimension of F:\", np.ndim(F))\n",
    "print(\"Dimension of V:\", np.ndim(V))"
   ]
  },
  {
   "cell_type": "markdown",
   "id": "75e1f9d8",
   "metadata": {},
   "source": [
    "### Two - and Multidimensional Arrays"
   ]
  },
  {
   "cell_type": "code",
   "execution_count": 49,
   "id": "7190f25b",
   "metadata": {},
   "outputs": [
    {
     "name": "stdout",
     "output_type": "stream",
     "text": [
      "[[ 3.4  8.7  9.9]\n",
      " [ 1.1 -7.8 -0.7]\n",
      " [ 4.1 12.3  4.8]]\n",
      "2\n"
     ]
    }
   ],
   "source": [
    "A = np.array([[3.4, 8.7, 9.9],\n",
    "             [1.1, -7.8, -0.7],\n",
    "             [4.1, 12.3, 4.8]])\n",
    "print(A)\n",
    "print(A.ndim)"
   ]
  },
  {
   "cell_type": "code",
   "execution_count": 51,
   "id": "a3a02eb3",
   "metadata": {},
   "outputs": [
    {
     "name": "stdout",
     "output_type": "stream",
     "text": [
      "3\n"
     ]
    }
   ],
   "source": [
    "B = np.array([[[111, 112], [121, 122]],\n",
    "              [[211, 212], [221, 222]],\n",
    "              [[311, 312], [321, 322]]])\n",
    "print(B.ndim)"
   ]
  },
  {
   "cell_type": "code",
   "execution_count": 52,
   "id": "b1ded84b",
   "metadata": {},
   "outputs": [
    {
     "data": {
      "text/plain": [
       "array([[[1., 1.],\n",
       "        [1., 1.],\n",
       "        [1., 1.]],\n",
       "\n",
       "       [[1., 1.],\n",
       "        [1., 1.],\n",
       "        [1., 1.]],\n",
       "\n",
       "       [[1., 1.],\n",
       "        [1., 1.],\n",
       "        [1., 1.]],\n",
       "\n",
       "       [[1., 1.],\n",
       "        [1., 1.],\n",
       "        [1., 1.]]])"
      ]
     },
     "execution_count": 52,
     "metadata": {},
     "output_type": "execute_result"
    }
   ],
   "source": [
    "np.ones((4,3,2))"
   ]
  },
  {
   "cell_type": "code",
   "execution_count": 53,
   "id": "482f865b",
   "metadata": {},
   "outputs": [
    {
     "data": {
      "text/plain": [
       "'C:\\\\Users\\\\joses'"
      ]
     },
     "execution_count": 53,
     "metadata": {},
     "output_type": "execute_result"
    }
   ],
   "source": [
    "%pwd"
   ]
  },
  {
   "cell_type": "markdown",
   "id": "5f71d0ac",
   "metadata": {},
   "source": [
    "![alt text](image.png \"3-D array\")\n"
   ]
  },
  {
   "cell_type": "code",
   "execution_count": 54,
   "id": "ebc35306",
   "metadata": {},
   "outputs": [
    {
     "data": {
      "text/plain": [
       "array([[[0., 0.],\n",
       "        [0., 0.],\n",
       "        [0., 0.]],\n",
       "\n",
       "       [[0., 0.],\n",
       "        [0., 0.],\n",
       "        [0., 0.]],\n",
       "\n",
       "       [[0., 0.],\n",
       "        [0., 0.],\n",
       "        [0., 0.]],\n",
       "\n",
       "       [[0., 0.],\n",
       "        [0., 0.],\n",
       "        [0., 0.]]])"
      ]
     },
     "execution_count": 54,
     "metadata": {},
     "output_type": "execute_result"
    }
   ],
   "source": [
    "np.zeros(((4,3,2)))"
   ]
  },
  {
   "cell_type": "code",
   "execution_count": 55,
   "id": "4e192828",
   "metadata": {},
   "outputs": [
    {
     "data": {
      "text/plain": [
       "array([[[0.1422405 , 0.05177501],\n",
       "        [0.02491396, 0.67517135],\n",
       "        [0.72793876, 0.19820027]],\n",
       "\n",
       "       [[0.98463306, 0.84348469],\n",
       "        [0.56545853, 0.14769233],\n",
       "        [0.00624189, 0.31978984]],\n",
       "\n",
       "       [[0.84891329, 0.75456329],\n",
       "        [0.51146194, 0.54331472],\n",
       "        [0.77382485, 0.57562997]],\n",
       "\n",
       "       [[0.07984369, 0.08817773],\n",
       "        [0.80697446, 0.23722817],\n",
       "        [0.35095545, 0.71447346]]])"
      ]
     },
     "execution_count": 55,
     "metadata": {},
     "output_type": "execute_result"
    }
   ],
   "source": [
    "np.random.random((4,3,2))"
   ]
  },
  {
   "cell_type": "code",
   "execution_count": null,
   "id": "0330f12b",
   "metadata": {},
   "outputs": [],
   "source": []
  }
 ],
 "metadata": {
  "kernelspec": {
   "display_name": "Python 3 (ipykernel)",
   "language": "python",
   "name": "python3"
  },
  "language_info": {
   "codemirror_mode": {
    "name": "ipython",
    "version": 3
   },
   "file_extension": ".py",
   "mimetype": "text/x-python",
   "name": "python",
   "nbconvert_exporter": "python",
   "pygments_lexer": "ipython3",
   "version": "3.9.12"
  }
 },
 "nbformat": 4,
 "nbformat_minor": 5
}
